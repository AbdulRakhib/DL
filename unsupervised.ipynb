{
 "cells": [
  {
   "cell_type": "code",
   "execution_count": 14,
   "metadata": {},
   "outputs": [],
   "source": [
    "%matplotlib inline\n",
    "\n",
    "import os\n",
    "import json\n",
    "import csv\n",
    "\n",
    "import pandas as pd\n",
    "import numpy as np\n",
    "\n",
    "import sklearn.feature_extraction.text as sk_text\n",
    "from collections.abc import Sequence\n",
    "\n",
    "import matplotlib.pyplot as plt\n",
    "from sklearn.model_selection import train_test_split\n",
    "from sklearn import metrics\n",
    "import tensorflow as tf\n",
    "from tensorflow import keras\n",
    "from keras import Sequential\n",
    "from keras import layers\n",
    "from keras.callbacks import EarlyStopping\n",
    "from keras.callbacks import ModelCheckpoint\n",
    "from keras import optimizers"
   ]
  },
  {
   "cell_type": "code",
   "execution_count": 15,
   "metadata": {},
   "outputs": [
    {
     "data": {
      "text/html": [
       "<div>\n",
       "<style scoped>\n",
       "    .dataframe tbody tr th:only-of-type {\n",
       "        vertical-align: middle;\n",
       "    }\n",
       "\n",
       "    .dataframe tbody tr th {\n",
       "        vertical-align: top;\n",
       "    }\n",
       "\n",
       "    .dataframe thead th {\n",
       "        text-align: right;\n",
       "    }\n",
       "</style>\n",
       "<table border=\"1\" class=\"dataframe\">\n",
       "  <thead>\n",
       "    <tr style=\"text-align: right;\">\n",
       "      <th></th>\n",
       "      <th>all_reviews</th>\n",
       "      <th>name</th>\n",
       "      <th>city</th>\n",
       "      <th>food_culture</th>\n",
       "    </tr>\n",
       "  </thead>\n",
       "  <tbody>\n",
       "    <tr>\n",
       "      <th>0</th>\n",
       "      <td>Ate here for the 1st time on Saturday 08/07/20...</td>\n",
       "      <td>Frankie's Raw Bar</td>\n",
       "      <td>New Port Richey</td>\n",
       "      <td>American</td>\n",
       "    </tr>\n",
       "    <tr>\n",
       "      <th>1</th>\n",
       "      <td>Took me for 40 bucks through grubhub, no call ...</td>\n",
       "      <td>The Original Italian Pie</td>\n",
       "      <td>Gentilly</td>\n",
       "      <td>Italian</td>\n",
       "    </tr>\n",
       "    <tr>\n",
       "      <th>2</th>\n",
       "      <td>This place is sadly perm closed. I was hoping ...</td>\n",
       "      <td>Chris's Sandwich Shop</td>\n",
       "      <td>Ardmore</td>\n",
       "      <td>American</td>\n",
       "    </tr>\n",
       "    <tr>\n",
       "      <th>3</th>\n",
       "      <td>Love their asiago roll. That and a cup of coff...</td>\n",
       "      <td>Manhattan Bagel</td>\n",
       "      <td>Willow Grove</td>\n",
       "      <td>NaN</td>\n",
       "    </tr>\n",
       "    <tr>\n",
       "      <th>4</th>\n",
       "      <td>Had lunch last week, second time I was disappo...</td>\n",
       "      <td>Cracker Barrel Old Country Store</td>\n",
       "      <td>Mount Holly</td>\n",
       "      <td>American</td>\n",
       "    </tr>\n",
       "    <tr>\n",
       "      <th>...</th>\n",
       "      <td>...</td>\n",
       "      <td>...</td>\n",
       "      <td>...</td>\n",
       "      <td>...</td>\n",
       "    </tr>\n",
       "    <tr>\n",
       "      <th>33936</th>\n",
       "      <td>I had the smoked salmon ramen special. The bro...</td>\n",
       "      <td>Nom Nom Japanese Kitchen</td>\n",
       "      <td>Paoli</td>\n",
       "      <td>Japanese</td>\n",
       "    </tr>\n",
       "    <tr>\n",
       "      <th>33937</th>\n",
       "      <td>Last night was my first time over at F&amp;M on Tc...</td>\n",
       "      <td>F &amp; M Patio Bar</td>\n",
       "      <td>New Orleans</td>\n",
       "      <td>American</td>\n",
       "    </tr>\n",
       "    <tr>\n",
       "      <th>33938</th>\n",
       "      <td>I recently stopped here for lunch.I had debs c...</td>\n",
       "      <td>Ruby's Kitchen</td>\n",
       "      <td>Nashville</td>\n",
       "      <td>American</td>\n",
       "    </tr>\n",
       "    <tr>\n",
       "      <th>33939</th>\n",
       "      <td>Went in for lunch and tried the jerk chicken a...</td>\n",
       "      <td>Taste of the Islands</td>\n",
       "      <td>Norristown</td>\n",
       "      <td>Caribbean</td>\n",
       "    </tr>\n",
       "    <tr>\n",
       "      <th>33940</th>\n",
       "      <td>Meh, I've definitely been to a better Dunkin' ...</td>\n",
       "      <td>Dunkin'</td>\n",
       "      <td>Clearwater</td>\n",
       "      <td>NaN</td>\n",
       "    </tr>\n",
       "  </tbody>\n",
       "</table>\n",
       "<p>33941 rows × 4 columns</p>\n",
       "</div>"
      ],
      "text/plain": [
       "                                             all_reviews  \\\n",
       "0      Ate here for the 1st time on Saturday 08/07/20...   \n",
       "1      Took me for 40 bucks through grubhub, no call ...   \n",
       "2      This place is sadly perm closed. I was hoping ...   \n",
       "3      Love their asiago roll. That and a cup of coff...   \n",
       "4      Had lunch last week, second time I was disappo...   \n",
       "...                                                  ...   \n",
       "33936  I had the smoked salmon ramen special. The bro...   \n",
       "33937  Last night was my first time over at F&M on Tc...   \n",
       "33938  I recently stopped here for lunch.I had debs c...   \n",
       "33939  Went in for lunch and tried the jerk chicken a...   \n",
       "33940  Meh, I've definitely been to a better Dunkin' ...   \n",
       "\n",
       "                                   name             city food_culture  \n",
       "0                     Frankie's Raw Bar  New Port Richey     American  \n",
       "1              The Original Italian Pie         Gentilly      Italian  \n",
       "2                 Chris's Sandwich Shop          Ardmore     American  \n",
       "3                       Manhattan Bagel     Willow Grove          NaN  \n",
       "4      Cracker Barrel Old Country Store      Mount Holly     American  \n",
       "...                                 ...              ...          ...  \n",
       "33936          Nom Nom Japanese Kitchen            Paoli     Japanese  \n",
       "33937                   F & M Patio Bar      New Orleans     American  \n",
       "33938                    Ruby's Kitchen        Nashville     American  \n",
       "33939              Taste of the Islands       Norristown    Caribbean  \n",
       "33940                           Dunkin'       Clearwater          NaN  \n",
       "\n",
       "[33941 rows x 4 columns]"
      ]
     },
     "execution_count": 15,
     "metadata": {},
     "output_type": "execute_result"
    }
   ],
   "source": [
    "# Read the TSV file into a Pandas DataFrame\n",
    "merged_df = pd.read_csv('df_merged.tsv', delimiter='\\t', encoding='utf-8')\n",
    "\n",
    "# Display the DataFrame\n",
    "merged_df"
   ]
  },
  {
   "cell_type": "code",
   "execution_count": 16,
   "metadata": {},
   "outputs": [],
   "source": [
    "from keras.preprocessing.text import Tokenizer\n",
    "from keras.preprocessing.sequence import pad_sequences\n",
    "from gensim.models import Word2Vec\n",
    "from keras.models import Sequential, Model\n",
    "from keras.layers import Embedding, Flatten, Dense, Input"
   ]
  },
  {
   "cell_type": "markdown",
   "metadata": {},
   "source": [
    "## building and training the neural network, and Gensim for working with Word2Vec embeddings"
   ]
  },
  {
   "cell_type": "markdown",
   "metadata": {},
   "source": [
    "### find out optimal max_words"
   ]
  },
  {
   "cell_type": "code",
   "execution_count": 4,
   "metadata": {},
   "outputs": [
    {
     "data": {
      "image/png": "[encoded data removed]",
      "text/plain": [
       "<Figure size 1200x600 with 1 Axes>"
      ]
     },
     "metadata": {},
     "output_type": "display_data"
    }
   ],
   "source": [
    "texts = merged_df['all_reviews'].tolist()\n",
    "# defining the max_words\n",
    "from nltk import FreqDist\n",
    "import matplotlib.pyplot as plt\n",
    "\n",
    "flat_texts = [word for text in texts for word in text.split()]\n",
    "word_freq = FreqDist(flat_texts)\n",
    "\n",
    "# Plot the word frequency distribution\n",
    "plt.figure(figsize=(12, 6))\n",
    "word_freq.plot(30, cumulative=False)\n",
    "plt.show()\n"
   ]
  },
  {
   "cell_type": "code",
   "execution_count": 17,
   "metadata": {},
   "outputs": [],
   "source": [
    "# Tokenization\n",
    "max_words = 10000  # the maximum number of words to keep based on word frequency\n",
    "tokenizer = Tokenizer(num_words=max_words)\n",
    "# fits the tokenizer on the text data\n",
    "tokenizer.fit_on_texts(texts)\n",
    "#  converts the text into sequences of integers\n",
    "sequences = tokenizer.texts_to_sequences(texts)"
   ]
  },
  {
   "cell_type": "code",
   "execution_count": 18,
   "metadata": {},
   "outputs": [],
   "source": [
    "# Padding sequences to a fixed length\n",
    "max_sequence_length = 100  \n",
    "# for creating consistent input shapes for the neural network\n",
    "padded_sequences = pad_sequences(sequences, maxlen=max_sequence_length)"
   ]
  },
  {
   "cell_type": "code",
   "execution_count": 19,
   "metadata": {},
   "outputs": [],
   "source": [
    "# Word2Vec Embeddings --> captures semantic relationships between words in the given context\n",
    "import random\n",
    "subsample_size = 1000  # Adjust this based on the available memory\n",
    "subsampled_texts = random.sample(texts, subsample_size)\n",
    "\n",
    "word2vec_model = Word2Vec(sentences=[text.split() for text in subsampled_texts], vector_size=50, window=5, min_count=1, workers=4)"
   ]
  },
  {
   "cell_type": "code",
   "execution_count": 20,
   "metadata": {},
   "outputs": [],
   "source": [
    "# Create an embedding matrix\n",
    "embedding_matrix = word2vec_model.wv.vectors"
   ]
  },
  {
   "cell_type": "markdown",
   "metadata": {},
   "source": [
    "### CNN model creation\n",
    "text classification"
   ]
  },
  {
   "cell_type": "code",
   "execution_count": 22,
   "metadata": {},
   "outputs": [
    {
     "name": "stdout",
     "output_type": "stream",
     "text": [
      "WARNING:tensorflow:From C:\\Users\\rimsa\\anaconda3\\Lib\\site-packages\\keras\\src\\optimizers\\__init__.py:309: The name tf.train.Optimizer is deprecated. Please use tf.compat.v1.train.Optimizer instead.\n",
      "\n",
      "Model: \"sequential_2\"\n",
      "_________________________________________________________________\n",
      " Layer (type)                Output Shape              Param #   \n",
      "=================================================================\n",
      " embedding_2 (Embedding)     (None, 100, 50)           17208850  \n",
      "                                                                 \n",
      " conv1d (Conv1D)             (None, 98, 64)            9664      \n",
      "                                                                 \n",
      " dropout (Dropout)           (None, 98, 64)            0         \n",
      "                                                                 \n",
      " global_max_pooling1d (Glob  (None, 64)                0         \n",
      " alMaxPooling1D)                                                 \n",
      "                                                                 \n",
      " batch_normalization (Batch  (None, 64)                256       \n",
      " Normalization)                                                  \n",
      "                                                                 \n",
      " dense (Dense)               (None, 32)                2080      \n",
      "                                                                 \n",
      " dropout_1 (Dropout)         (None, 32)                0         \n",
      "                                                                 \n",
      " dense_1 (Dense)             (None, 10000)             330000    \n",
      "                                                                 \n",
      "=================================================================\n",
      "Total params: 17550850 (66.95 MB)\n",
      "Trainable params: 341872 (1.30 MB)\n",
      "Non-trainable params: 17208978 (65.65 MB)\n",
      "_________________________________________________________________\n"
     ]
    }
   ],
   "source": [
    "from tensorflow.keras.models import Sequential\n",
    "from tensorflow.keras.layers import Embedding, Conv1D, GlobalMaxPooling1D, Dense, Dropout, BatchNormalization\n",
    "\n",
    "# Model Architecture - Improved CNN\n",
    "embedding_dim = 50 \n",
    "max_words = 10000  # the maximum number of words to keep based on word frequency\n",
    "max_sequence_length = 100  # for creating consistent input shapes for the neural network\n",
    "num_filters = 64\n",
    "filter_size = 3\n",
    "dropout_rate = 0.5  \n",
    "\n",
    "model = Sequential()\n",
    "\n",
    "# Embedding layer using pre-trained Word2Vec embeddings\n",
    "model.add(Embedding(input_dim=344177, output_dim=embedding_dim, input_length=max_sequence_length, weights=[embedding_matrix], trainable=False))\n",
    "\n",
    "# Convolutional layers with dropout\n",
    "model.add(Conv1D(num_filters, filter_size, activation='relu'))\n",
    "model.add(Dropout(dropout_rate))\n",
    "\n",
    "# Global max pooling layer\n",
    "model.add(GlobalMaxPooling1D())\n",
    "\n",
    "# Batch normalization layer\n",
    "model.add(BatchNormalization())\n",
    "\n",
    "# Fully connected layers with dropout\n",
    "model.add(Dense(32, activation='relu'))\n",
    "model.add(Dropout(dropout_rate))\n",
    "\n",
    "# Output layer\n",
    "model.add(Dense(max_words, activation='softmax'))\n",
    "\n",
    "# Compile the model\n",
    "model.compile(optimizer='adam', loss='categorical_crossentropy', metrics=['accuracy'])\n",
    "\n",
    "# Display the model summary\n",
    "model.summary()"
   ]
  },
  {
   "cell_type": "code",
   "execution_count": 23,
   "metadata": {},
   "outputs": [
    {
     "name": "stderr",
     "output_type": "stream",
     "text": [
      "C:\\Users\\rimsa\\anaconda3\\Lib\\site-packages\\keras\\src\\engine\\training.py:3103: UserWarning: You are saving your model as an HDF5 file via `model.save()`. This file format is considered legacy. We recommend using instead the native Keras format, e.g. `model.save('my_model.keras')`.\n",
      "  saving_api.save_model(\n"
     ]
    }
   ],
   "source": [
    "# Save the model\n",
    "model.save('unsupervised_model.h5')"
   ]
  },
  {
   "cell_type": "code",
   "execution_count": 24,
   "metadata": {},
   "outputs": [
    {
     "name": "stdout",
     "output_type": "stream",
     "text": [
      "1061/1061 [==============================] - 2s 1ms/step\n"
     ]
    }
   ],
   "source": [
    "# Extract features from the hidden layers\n",
    "encoder = Model(inputs=model.input, outputs=model.layers[3].output)\n",
    "encoded_features = encoder.predict(padded_sequences)"
   ]
  },
  {
   "cell_type": "code",
   "execution_count": 25,
   "metadata": {},
   "outputs": [
    {
     "data": {
      "text/plain": [
       "array([[ 7.635695 ,  5.9011364,  8.266461 , ...,  5.167633 ,  5.773407 ,\n",
       "         5.5821066],\n",
       "       [ 6.470402 ,  5.4614196,  7.5837216, ...,  7.1966352,  6.7472515,\n",
       "         6.1772313],\n",
       "       [ 6.470402 ,  6.3621664,  6.4775076, ...,  5.3611164,  5.4898906,\n",
       "         5.3609147],\n",
       "       ...,\n",
       "       [ 5.719757 ,  4.6966333, 10.651087 , ...,  6.697357 ,  5.121059 ,\n",
       "         7.374079 ],\n",
       "       [ 5.2293243,  6.3037343,  7.764915 , ...,  6.2998786,  5.7839923,\n",
       "         5.711975 ],\n",
       "       [ 6.0136714,  6.337831 ,  9.089235 , ...,  6.843374 ,  6.1541324,\n",
       "         5.6014037]], dtype=float32)"
      ]
     },
     "execution_count": 25,
     "metadata": {},
     "output_type": "execute_result"
    }
   ],
   "source": [
    "encoded_features"
   ]
  },
  {
   "cell_type": "code",
   "execution_count": null,
   "metadata": {},
   "outputs": [],
   "source": []
  }
 ],
 "metadata": {
  "kernelspec": {
   "display_name": "Python 3 (ipykernel)",
   "language": "python",
   "name": "python3"
  },
  "language_info": {
   "codemirror_mode": {
    "name": "ipython",
    "version": 3
   },
   "file_extension": ".py",
   "mimetype": "text/x-python",
   "name": "python",
   "nbconvert_exporter": "python",
   "pygments_lexer": "ipython3",
   "version": "3.11.4"
  }
 },
 "nbformat": 4,
 "nbformat_minor": 2
}
